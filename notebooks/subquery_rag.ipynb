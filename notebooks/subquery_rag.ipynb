{
 "cells": [
  {
   "cell_type": "code",
   "execution_count": 1,
   "metadata": {},
   "outputs": [
    {
     "name": "stderr",
     "output_type": "stream",
     "text": [
      "f:\\dev\\simple-rag\\.env\\Lib\\site-packages\\tqdm\\auto.py:21: TqdmWarning: IProgress not found. Please update jupyter and ipywidgets. See https://ipywidgets.readthedocs.io/en/stable/user_install.html\n",
      "  from .autonotebook import tqdm as notebook_tqdm\n"
     ]
    }
   ],
   "source": [
    "import nest_asyncio\n",
    "\n",
    "from llama_index.embeddings import HuggingFaceEmbedding\n",
    "\n",
    "nest_asyncio.apply()\n",
    "\n",
    "embed_model = HuggingFaceEmbedding(model_name=\"BAAI/bge-small-en-v1.5\")"
   ]
  },
  {
   "cell_type": "code",
   "execution_count": 1,
   "metadata": {},
   "outputs": [
    {
     "name": "stderr",
     "output_type": "stream",
     "text": [
      "AVX = 1 | AVX2 = 1 | AVX512 = 0 | AVX512_VBMI = 0 | AVX512_VNNI = 0 | FMA = 1 | NEON = 0 | ARM_FMA = 0 | F16C = 1 | FP16_VA = 0 | WASM_SIMD = 0 | BLAS = 0 | SSE3 = 1 | SSSE3 = 0 | VSX = 0 | \n"
     ]
    }
   ],
   "source": [
    "from llama_index.llms import LlamaCPP\n",
    "\n",
    "# model_url = \"https://huggingface.co/TheBloke/zephyr-7B-beta-GGUF/resolve/main/zephyr-7b-beta.Q4_K_M.gguf\"\n",
    "\n",
    "llm = LlamaCPP(\n",
    "    model_url=\"https://huggingface.co/TheBloke/zephyr-7B-beta-GGUF/resolve/main/zephyr-7b-beta.Q4_K_M.gguf\",\n",
    "    # optionally, you can set the path to a pre-downloaded model instead of model_url\n",
    "    model_path=\"./llm/zephyr-7b-beta.Q4_K_M.gguf\",\n",
    "    temperature=0.1,\n",
    "    max_new_tokens=256,\n",
    "    # llama2 has a context window of 4096 tokens, but we set it lower to allow for some wiggle room\n",
    "    context_window=3900,\n",
    "    # kwargs to pass to __call__()\n",
    "    generate_kwargs={},\n",
    "    # kwargs to pass to __init__()\n",
    "    # set to at least 1 to use GPU\n",
    "    model_kwargs={\"n_gpu_layers\": 1},\n",
    "    verbose=True,\n",
    ")"
   ]
  },
  {
   "cell_type": "code",
   "execution_count": 3,
   "metadata": {},
   "outputs": [],
   "source": [
    "from llama_index import ServiceContext\n",
    "from llama_index.callbacks import CallbackManager, LlamaDebugHandler\n",
    "\n",
    "llama_debug = LlamaDebugHandler(print_trace_on_end=True)\n",
    "callback_manager = CallbackManager([llama_debug])\n",
    "service_context = ServiceContext.from_defaults(\n",
    "    llm=llm, \n",
    "    embed_model=embed_model, \n",
    "    callback_manager=callback_manager,\n",
    ")"
   ]
  },
  {
   "cell_type": "code",
   "execution_count": 4,
   "metadata": {},
   "outputs": [
    {
     "name": "stdout",
     "output_type": "stream",
     "text": [
      "Loading file titled: Grain size strengthening in terms of dislocation density measured by resistivity\n",
      "Storing and Indexing file title: Grain size strengthening in terms of dislocation density measured by resistivity\n",
      "**********\n",
      "Trace: index_construction\n",
      "**********\n",
      "Init query engine and add to qe_tools\n",
      "Loading file titled: [Armstrong] 60 Years of Hall-Petch - Past to Present Nano-Scale Connections\n",
      "Storing and Indexing file title: [Armstrong] 60 Years of Hall-Petch - Past to Present Nano-Scale Connections\n",
      "**********\n",
      "Trace: index_construction\n",
      "**********\n",
      "Init query engine and add to qe_tools\n"
     ]
    }
   ],
   "source": [
    "import re\n",
    "import glob\n",
    "import chromadb\n",
    "\n",
    "from llama_index import SimpleDirectoryReader, VectorStoreIndex\n",
    "from llama_index.tools import QueryEngineTool, ToolMetadata\n",
    "from llama_index.vector_stores import ChromaVectorStore\n",
    "from llama_index.storage.storage_context import StorageContext\n",
    "\n",
    "def parse_string(input_string):\n",
    "    parsed_string = input_string.replace(' ', '_')\n",
    "    parsed_string = parsed_string.replace('-', '_')\n",
    "    parsed_string = re.sub(r'[^a-z0-9_]', '', parsed_string.lower())\n",
    "    parsed_string = re.sub(r'(_)\\1+', r'\\1', parsed_string)\n",
    "    \n",
    "    return parsed_string\n",
    "\n",
    "input_dir = \"./ainu_papers/\"\n",
    "supported_files = [\".pdf\", \".csv\", \".docx\", \".txt\", \".epub\", \".hwp\", \".mbox\", \".ppt\", \".pptm\", \".pptx\", \".ipynb\", \".md\"]\n",
    "files = [f for f in glob.glob(f\"{input_dir}**/*\", recursive=True) if f\".{f.split('.')[-1]}\" in supported_files]\n",
    "\n",
    "db = chromadb.PersistentClient(path=\"./db\")\n",
    "query_engine_tools = []\n",
    "\n",
    "for file in files:\n",
    "    new = False\n",
    "    title = \" \".join(file.replace(\"\\\\\", \"/\").split(\"/\")[-1].split(\".\")[:-1])\n",
    "    collection_name = parse_string(title)[:63]\n",
    "    print(f\"Loading file titled: {title}\")\n",
    "    try:\n",
    "        chroma_collection = db.get_collection(collection_name)\n",
    "    except:\n",
    "        new = True\n",
    "        documents = SimpleDirectoryReader(input_files=[file]).load_data()\n",
    "        chroma_collection = db.create_collection(collection_name)\n",
    "\n",
    "    print(f\"Storing and Indexing file title: {title}\")\n",
    "    vector_store = ChromaVectorStore(chroma_collection=chroma_collection)\n",
    "\n",
    "    if new:\n",
    "        storage_context = StorageContext.from_defaults(vector_store=vector_store)\n",
    "        index = VectorStoreIndex.from_documents(\n",
    "            documents, \n",
    "            storage_context=storage_context, \n",
    "            service_context=service_context,\n",
    "            use_async=True,\n",
    "        )\n",
    "    else:\n",
    "        index = VectorStoreIndex.from_vector_store(\n",
    "        vector_store,\n",
    "        service_context=service_context,\n",
    "        use_async=True,\n",
    "    )\n",
    "        \n",
    "    print(f\"Init query engine and add to qe_tools\")\n",
    "    # Query Data from the persisted index\n",
    "    query_engine = index.as_query_engine()\n",
    "    query_engine_tools.append(\n",
    "        QueryEngineTool(\n",
    "            query_engine=query_engine,\n",
    "            metadata=ToolMetadata(\n",
    "                name=collection_name,\n",
    "                description=f\"A Paper titled: {title}\",\n",
    "            )\n",
    "        )\n",
    "    )"
   ]
  },
  {
   "cell_type": "code",
   "execution_count": 7,
   "metadata": {},
   "outputs": [],
   "source": [
    "from llama_index.query_engine import SubQuestionQueryEngine\n",
    "\n",
    "subq_engine = SubQuestionQueryEngine.from_defaults(\n",
    "    query_engine_tools=query_engine_tools,\n",
    "    service_context=service_context,\n",
    "    use_async=True\n",
    ")"
   ]
  },
  {
   "cell_type": "code",
   "execution_count": 8,
   "metadata": {},
   "outputs": [
    {
     "name": "stderr",
     "output_type": "stream",
     "text": [
      "Llama.generate: prefix-match hit\n"
     ]
    },
    {
     "name": "stdout",
     "output_type": "stream",
     "text": [
      "Generated 3 sub questions.\n",
      "\u001b[1;3;38;2;237;90;200m[grain_size_strengthening_in_terms_of_dislocation_density_measur] Q: What materials are discussed in the paper titled: Grain size strengthening in terms of dislocation density measured by resistivity\n",
      "\u001b[0m"
     ]
    },
    {
     "name": "stderr",
     "output_type": "stream",
     "text": [
      "Llama.generate: prefix-match hit\n"
     ]
    },
    {
     "name": "stdout",
     "output_type": "stream",
     "text": [
      "\u001b[1;3;38;2;237;90;200m[grain_size_strengthening_in_terms_of_dislocation_density_measur] A: \n",
      "\n",
      "The paper titled \"Grain size strengthening in terms of dislocation density measured by resistivity\" discusses the effect of grain size on flow stress for polycrystalline nickel deformed at two different temperatures (77 and 295 K) using electrical resistivity measurement to determine dislocation density. The authors also compare their calculated results with experimental data from resistivity measurements in copper single crystals, highlighting the role of pre-existing secondary dislocations in enhancing the build-up of deformation bands through interaction with primary dislocations, leading to a reduction in cell size and an increase in flow stress.\n",
      "\u001b[0m\u001b[1;3;38;2;90;149;237m[armstrong_60_years_of_hall_petch_past_to_present_nano_scale_con] Q: What materials are discussed in the paper titled: [Armstrong] 60 Years of Hall-Petch - Past to Present Nano-Scale Connections\n",
      "\u001b[0m"
     ]
    },
    {
     "name": "stderr",
     "output_type": "stream",
     "text": [
      "Llama.generate: prefix-match hit\n"
     ]
    },
    {
     "name": "stdout",
     "output_type": "stream",
     "text": [
      "\u001b[1;3;38;2;90;149;237m[armstrong_60_years_of_hall_petch_past_to_present_nano_scale_con] A: \n",
      "\n",
      "The paper titled \"[Armstrong] 60 Years of Hall-Petch - Past to Present Nano-Scale Connections\" discusses various papers and articles related to the Hall-Petch relationship, which is a fundamental concept in materials science. The papers discussed include works by authors such as N. J. Petch, R. W. Armstrong, D. Jang, G. Purcek, X. D. Zhang, R. Shukla, and others. These papers cover topics related to nanocrystalline materials, dislocation dynamics, fracture mechanics, yielding, flow, and fracture of polycrystals. The paper by Armstrong himself, published in the journal Emerging Materials Research in 2012, is also discussed. Overall, the paper provides a historical overview of the Hall-Petch relationship and its evolution over the past six decades, with a focus on nano-scale connections.\n",
      "\u001b[0m**********\n",
      "Trace: query\n",
      "    |_CBEventType.QUERY ->  422.729255 seconds\n",
      "      |_CBEventType.TEMPLATING ->  0.0 seconds\n",
      "      |_CBEventType.LLM ->  75.227475 seconds\n",
      "      |_CBEventType.SUB_QUESTION ->  199.667992 seconds\n",
      "        |_CBEventType.QUERY ->  199.665478 seconds\n",
      "          |_CBEventType.RETRIEVE ->  0.035859 seconds\n",
      "            |_CBEventType.EMBEDDING ->  0.033353 seconds\n",
      "          |_CBEventType.SYNTHESIZE ->  199.628152 seconds\n",
      "            |_CBEventType.TEMPLATING ->  0.001007 seconds\n",
      "            |_CBEventType.LLM ->  199.618088 seconds\n",
      "            |_CBEventType.LLM ->  199.618088 seconds\n",
      "      |_CBEventType.SUB_QUESTION ->  147.832787 seconds\n",
      "        |_CBEventType.QUERY ->  147.832787 seconds\n",
      "          |_CBEventType.RETRIEVE ->  0.03641 seconds\n",
      "            |_CBEventType.EMBEDDING ->  0.03341 seconds\n",
      "          |_CBEventType.SYNTHESIZE ->  147.796377 seconds\n",
      "            |_CBEventType.TEMPLATING ->  0.0 seconds\n",
      "            |_CBEventType.LLM ->  147.788911 seconds\n",
      "            |_CBEventType.LLM ->  147.788911 seconds\n",
      "      |_CBEventType.SUB_QUESTION ->  0.0 seconds\n",
      "**********\n"
     ]
    },
    {
     "ename": "KeyError",
     "evalue": "''",
     "output_type": "error",
     "traceback": [
      "\u001b[1;31m---------------------------------------------------------------------------\u001b[0m",
      "\u001b[1;31mKeyError\u001b[0m                                  Traceback (most recent call last)",
      "\u001b[1;32mf:\\dev\\simple-rag\\subquery_rag.ipynb Cell 6\u001b[0m line \u001b[0;36m1\n\u001b[1;32m----> <a href='vscode-notebook-cell:/f%3A/dev/simple-rag/subquery_rag.ipynb#W5sZmlsZQ%3D%3D?line=0'>1</a>\u001b[0m response \u001b[39m=\u001b[39m subq_engine\u001b[39m.\u001b[39;49mquery(\u001b[39m\"\u001b[39;49m\u001b[39mWhy Nickel is chosen as material for the experimentation?\u001b[39;49m\u001b[39m\"\u001b[39;49m)\n\u001b[0;32m      <a href='vscode-notebook-cell:/f%3A/dev/simple-rag/subquery_rag.ipynb#W5sZmlsZQ%3D%3D?line=1'>2</a>\u001b[0m \u001b[39mprint\u001b[39m(response)\n",
      "File \u001b[1;32mf:\\dev\\simple-rag\\.env\\Lib\\site-packages\\llama_index\\core\\base_query_engine.py:30\u001b[0m, in \u001b[0;36mBaseQueryEngine.query\u001b[1;34m(self, str_or_query_bundle)\u001b[0m\n\u001b[0;32m     28\u001b[0m \u001b[39mif\u001b[39;00m \u001b[39misinstance\u001b[39m(str_or_query_bundle, \u001b[39mstr\u001b[39m):\n\u001b[0;32m     29\u001b[0m     str_or_query_bundle \u001b[39m=\u001b[39m QueryBundle(str_or_query_bundle)\n\u001b[1;32m---> 30\u001b[0m \u001b[39mreturn\u001b[39;00m \u001b[39mself\u001b[39;49m\u001b[39m.\u001b[39;49m_query(str_or_query_bundle)\n",
      "File \u001b[1;32mf:\\dev\\simple-rag\\.env\\Lib\\site-packages\\llama_index\\query_engine\\sub_question_query_engine.py:145\u001b[0m, in \u001b[0;36mSubQuestionQueryEngine._query\u001b[1;34m(self, query_bundle)\u001b[0m\n\u001b[0;32m    139\u001b[0m \u001b[39mif\u001b[39;00m \u001b[39mself\u001b[39m\u001b[39m.\u001b[39m_use_async:\n\u001b[0;32m    140\u001b[0m     tasks \u001b[39m=\u001b[39m [\n\u001b[0;32m    141\u001b[0m         \u001b[39mself\u001b[39m\u001b[39m.\u001b[39m_aquery_subq(sub_q, color\u001b[39m=\u001b[39mcolors[\u001b[39mstr\u001b[39m(ind)])\n\u001b[0;32m    142\u001b[0m         \u001b[39mfor\u001b[39;00m ind, sub_q \u001b[39min\u001b[39;00m \u001b[39menumerate\u001b[39m(sub_questions)\n\u001b[0;32m    143\u001b[0m     ]\n\u001b[1;32m--> 145\u001b[0m     qa_pairs_all \u001b[39m=\u001b[39m run_async_tasks(tasks)\n\u001b[0;32m    146\u001b[0m     qa_pairs_all \u001b[39m=\u001b[39m cast(List[Optional[SubQuestionAnswerPair]], qa_pairs_all)\n\u001b[0;32m    147\u001b[0m \u001b[39melse\u001b[39;00m:\n",
      "File \u001b[1;32mf:\\dev\\simple-rag\\.env\\Lib\\site-packages\\llama_index\\async_utils.py:49\u001b[0m, in \u001b[0;36mrun_async_tasks\u001b[1;34m(tasks, show_progress, progress_bar_desc)\u001b[0m\n\u001b[0;32m     46\u001b[0m \u001b[39masync\u001b[39;00m \u001b[39mdef\u001b[39;00m \u001b[39m_gather\u001b[39m() \u001b[39m-\u001b[39m\u001b[39m>\u001b[39m List[Any]:\n\u001b[0;32m     47\u001b[0m     \u001b[39mreturn\u001b[39;00m \u001b[39mawait\u001b[39;00m asyncio\u001b[39m.\u001b[39mgather(\u001b[39m*\u001b[39mtasks_to_execute)\n\u001b[1;32m---> 49\u001b[0m outputs: List[Any] \u001b[39m=\u001b[39m asyncio\u001b[39m.\u001b[39;49mrun(_gather())\n\u001b[0;32m     50\u001b[0m \u001b[39mreturn\u001b[39;00m outputs\n",
      "File \u001b[1;32mf:\\dev\\simple-rag\\.env\\Lib\\site-packages\\nest_asyncio.py:31\u001b[0m, in \u001b[0;36m_patch_asyncio.<locals>.run\u001b[1;34m(main, debug)\u001b[0m\n\u001b[0;32m     29\u001b[0m task \u001b[39m=\u001b[39m asyncio\u001b[39m.\u001b[39mensure_future(main)\n\u001b[0;32m     30\u001b[0m \u001b[39mtry\u001b[39;00m:\n\u001b[1;32m---> 31\u001b[0m     \u001b[39mreturn\u001b[39;00m loop\u001b[39m.\u001b[39;49mrun_until_complete(task)\n\u001b[0;32m     32\u001b[0m \u001b[39mfinally\u001b[39;00m:\n\u001b[0;32m     33\u001b[0m     \u001b[39mif\u001b[39;00m \u001b[39mnot\u001b[39;00m task\u001b[39m.\u001b[39mdone():\n",
      "File \u001b[1;32mf:\\dev\\simple-rag\\.env\\Lib\\site-packages\\nest_asyncio.py:99\u001b[0m, in \u001b[0;36m_patch_loop.<locals>.run_until_complete\u001b[1;34m(self, future)\u001b[0m\n\u001b[0;32m     96\u001b[0m \u001b[39mif\u001b[39;00m \u001b[39mnot\u001b[39;00m f\u001b[39m.\u001b[39mdone():\n\u001b[0;32m     97\u001b[0m     \u001b[39mraise\u001b[39;00m \u001b[39mRuntimeError\u001b[39;00m(\n\u001b[0;32m     98\u001b[0m         \u001b[39m'\u001b[39m\u001b[39mEvent loop stopped before Future completed.\u001b[39m\u001b[39m'\u001b[39m)\n\u001b[1;32m---> 99\u001b[0m \u001b[39mreturn\u001b[39;00m f\u001b[39m.\u001b[39;49mresult()\n",
      "File \u001b[1;32m~\\AppData\\Local\\Programs\\Python\\Python311\\Lib\\asyncio\\futures.py:203\u001b[0m, in \u001b[0;36mFuture.result\u001b[1;34m(self)\u001b[0m\n\u001b[0;32m    201\u001b[0m \u001b[39mself\u001b[39m\u001b[39m.\u001b[39m__log_traceback \u001b[39m=\u001b[39m \u001b[39mFalse\u001b[39;00m\n\u001b[0;32m    202\u001b[0m \u001b[39mif\u001b[39;00m \u001b[39mself\u001b[39m\u001b[39m.\u001b[39m_exception \u001b[39mis\u001b[39;00m \u001b[39mnot\u001b[39;00m \u001b[39mNone\u001b[39;00m:\n\u001b[1;32m--> 203\u001b[0m     \u001b[39mraise\u001b[39;00m \u001b[39mself\u001b[39m\u001b[39m.\u001b[39m_exception\u001b[39m.\u001b[39mwith_traceback(\u001b[39mself\u001b[39m\u001b[39m.\u001b[39m_exception_tb)\n\u001b[0;32m    204\u001b[0m \u001b[39mreturn\u001b[39;00m \u001b[39mself\u001b[39m\u001b[39m.\u001b[39m_result\n",
      "File \u001b[1;32m~\\AppData\\Local\\Programs\\Python\\Python311\\Lib\\asyncio\\tasks.py:279\u001b[0m, in \u001b[0;36mTask.__step\u001b[1;34m(***failed resolving arguments***)\u001b[0m\n\u001b[0;32m    277\u001b[0m         result \u001b[39m=\u001b[39m coro\u001b[39m.\u001b[39msend(\u001b[39mNone\u001b[39;00m)\n\u001b[0;32m    278\u001b[0m     \u001b[39melse\u001b[39;00m:\n\u001b[1;32m--> 279\u001b[0m         result \u001b[39m=\u001b[39m coro\u001b[39m.\u001b[39mthrow(exc)\n\u001b[0;32m    280\u001b[0m \u001b[39mexcept\u001b[39;00m \u001b[39mStopIteration\u001b[39;00m \u001b[39mas\u001b[39;00m exc:\n\u001b[0;32m    281\u001b[0m     \u001b[39mif\u001b[39;00m \u001b[39mself\u001b[39m\u001b[39m.\u001b[39m_must_cancel:\n\u001b[0;32m    282\u001b[0m         \u001b[39m# Task is cancelled right before coro stops.\u001b[39;00m\n",
      "File \u001b[1;32mf:\\dev\\simple-rag\\.env\\Lib\\site-packages\\llama_index\\async_utils.py:47\u001b[0m, in \u001b[0;36mrun_async_tasks.<locals>._gather\u001b[1;34m()\u001b[0m\n\u001b[0;32m     46\u001b[0m \u001b[39masync\u001b[39;00m \u001b[39mdef\u001b[39;00m \u001b[39m_gather\u001b[39m() \u001b[39m-\u001b[39m\u001b[39m>\u001b[39m List[Any]:\n\u001b[1;32m---> 47\u001b[0m     \u001b[39mreturn\u001b[39;00m \u001b[39mawait\u001b[39;00m asyncio\u001b[39m.\u001b[39mgather(\u001b[39m*\u001b[39mtasks_to_execute)\n",
      "File \u001b[1;32m~\\AppData\\Local\\Programs\\Python\\Python311\\Lib\\asyncio\\tasks.py:349\u001b[0m, in \u001b[0;36mTask.__wakeup\u001b[1;34m(self, future)\u001b[0m\n\u001b[0;32m    347\u001b[0m \u001b[39mdef\u001b[39;00m \u001b[39m__wakeup\u001b[39m(\u001b[39mself\u001b[39m, future):\n\u001b[0;32m    348\u001b[0m     \u001b[39mtry\u001b[39;00m:\n\u001b[1;32m--> 349\u001b[0m         future\u001b[39m.\u001b[39;49mresult()\n\u001b[0;32m    350\u001b[0m     \u001b[39mexcept\u001b[39;00m \u001b[39mBaseException\u001b[39;00m \u001b[39mas\u001b[39;00m exc:\n\u001b[0;32m    351\u001b[0m         \u001b[39m# This may also be a cancellation.\u001b[39;00m\n\u001b[0;32m    352\u001b[0m         \u001b[39mself\u001b[39m\u001b[39m.\u001b[39m__step(exc)\n",
      "File \u001b[1;32m~\\AppData\\Local\\Programs\\Python\\Python311\\Lib\\asyncio\\tasks.py:277\u001b[0m, in \u001b[0;36mTask.__step\u001b[1;34m(***failed resolving arguments***)\u001b[0m\n\u001b[0;32m    273\u001b[0m \u001b[39mtry\u001b[39;00m:\n\u001b[0;32m    274\u001b[0m     \u001b[39mif\u001b[39;00m exc \u001b[39mis\u001b[39;00m \u001b[39mNone\u001b[39;00m:\n\u001b[0;32m    275\u001b[0m         \u001b[39m# We use the `send` method directly, because coroutines\u001b[39;00m\n\u001b[0;32m    276\u001b[0m         \u001b[39m# don't have `__iter__` and `__next__` methods.\u001b[39;00m\n\u001b[1;32m--> 277\u001b[0m         result \u001b[39m=\u001b[39m coro\u001b[39m.\u001b[39msend(\u001b[39mNone\u001b[39;00m)\n\u001b[0;32m    278\u001b[0m     \u001b[39melse\u001b[39;00m:\n\u001b[0;32m    279\u001b[0m         result \u001b[39m=\u001b[39m coro\u001b[39m.\u001b[39mthrow(exc)\n",
      "File \u001b[1;32mf:\\dev\\simple-rag\\.env\\Lib\\site-packages\\llama_index\\query_engine\\sub_question_query_engine.py:221\u001b[0m, in \u001b[0;36mSubQuestionQueryEngine._aquery_subq\u001b[1;34m(self, sub_q, color)\u001b[0m\n\u001b[0;32m    216\u001b[0m \u001b[39mwith\u001b[39;00m \u001b[39mself\u001b[39m\u001b[39m.\u001b[39mcallback_manager\u001b[39m.\u001b[39mevent(\n\u001b[0;32m    217\u001b[0m     CBEventType\u001b[39m.\u001b[39mSUB_QUESTION,\n\u001b[0;32m    218\u001b[0m     payload\u001b[39m=\u001b[39m{EventPayload\u001b[39m.\u001b[39mSUB_QUESTION: SubQuestionAnswerPair(sub_q\u001b[39m=\u001b[39msub_q)},\n\u001b[0;32m    219\u001b[0m ) \u001b[39mas\u001b[39;00m event:\n\u001b[0;32m    220\u001b[0m     question \u001b[39m=\u001b[39m sub_q\u001b[39m.\u001b[39msub_question\n\u001b[1;32m--> 221\u001b[0m     query_engine \u001b[39m=\u001b[39m \u001b[39mself\u001b[39;49m\u001b[39m.\u001b[39;49m_query_engines[sub_q\u001b[39m.\u001b[39;49mtool_name]\n\u001b[0;32m    223\u001b[0m     \u001b[39mif\u001b[39;00m \u001b[39mself\u001b[39m\u001b[39m.\u001b[39m_verbose:\n\u001b[0;32m    224\u001b[0m         print_text(\u001b[39mf\u001b[39m\u001b[39m\"\u001b[39m\u001b[39m[\u001b[39m\u001b[39m{\u001b[39;00msub_q\u001b[39m.\u001b[39mtool_name\u001b[39m}\u001b[39;00m\u001b[39m] Q: \u001b[39m\u001b[39m{\u001b[39;00mquestion\u001b[39m}\u001b[39;00m\u001b[39m\\n\u001b[39;00m\u001b[39m\"\u001b[39m, color\u001b[39m=\u001b[39mcolor)\n",
      "\u001b[1;31mKeyError\u001b[0m: ''"
     ]
    }
   ],
   "source": [
    "response = subq_engine.query(\"Why Nickel is chosen as material for the experimentation?\")\n",
    "print(response)"
   ]
  },
  {
   "cell_type": "code",
   "execution_count": null,
   "metadata": {},
   "outputs": [
    {
     "name": "stdout",
     "output_type": "stream",
     "text": [
      "Sub Question 0: What are the advantages of using nickel in experimental research?\n",
      "Answer: Nickel has several advantages when used in experimental research, including:\n",
      "1. High stacking fault energy: Nickel has a high stacking fault energy, which makes it suitable for studying dislocation density and its effect on flow stress.\n",
      "2. Easy to work with: Nickel is a relatively easy material to work with, as it can be easily melted and shaped into various forms.\n",
      "3. High electrical resistivity: Nickel has a high electrical resistivity, which allows for the measurement of dislocation density using electrical resistivity.\n",
      "4. Low thermal conductivity: Nickel has a low thermal conductivity, which makes it suitable for studying the effect of temperature on dislocation density.\n",
      "5. High ductility: Nickel is highly ductile, which allows for the study of plastic deformation and its effect on dislocation density.\n",
      "====================================\n"
     ]
    }
   ],
   "source": [
    "# iterate through sub_question items captured in SUB_QUESTION event\n",
    "from llama_index.callbacks.schema import CBEventType, EventPayload\n",
    "\n",
    "for i, (start_event, end_event) in enumerate(\n",
    "    llama_debug.get_event_pairs(CBEventType.SUB_QUESTION)\n",
    "):\n",
    "    qa_pair = end_event.payload[EventPayload.SUB_QUESTION]\n",
    "    print(\"Sub Question \" + str(i) + \": \" + qa_pair.sub_q.sub_question.strip())\n",
    "    print(\"Answer: \" + qa_pair.answer.strip())\n",
    "    print(\"====================================\")"
   ]
  },
  {
   "cell_type": "code",
   "execution_count": null,
   "metadata": {},
   "outputs": [],
   "source": []
  },
  {
   "cell_type": "code",
   "execution_count": null,
   "metadata": {},
   "outputs": [],
   "source": []
  }
 ],
 "metadata": {
  "kernelspec": {
   "display_name": ".venv",
   "language": "python",
   "name": "python3"
  },
  "language_info": {
   "codemirror_mode": {
    "name": "ipython",
    "version": 3
   },
   "file_extension": ".py",
   "mimetype": "text/x-python",
   "name": "python",
   "nbconvert_exporter": "python",
   "pygments_lexer": "ipython3",
   "version": "3.11.6"
  }
 },
 "nbformat": 4,
 "nbformat_minor": 2
}
